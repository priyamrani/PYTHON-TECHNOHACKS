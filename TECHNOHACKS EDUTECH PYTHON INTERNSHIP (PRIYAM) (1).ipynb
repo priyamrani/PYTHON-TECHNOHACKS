{
 "cells": [
  {
   "cell_type": "markdown",
   "id": "7ac9d43a",
   "metadata": {},
   "source": [
    "**<font color='red' size='7' face='Times New Roman'>TECHNOHACKS EDUTECH</font>**<br><br>\n",
    "**<font color='red' size='6.5' face='Times New Roman'>BATCH-13; TASK SUBMISSION</font>**<br><br>\n",
    "**<font color='red' size='6.5' face='Times New Roman'>DOMAIN: PYTHON</font>**<br><br>\n",
    "**<font color='red' size='6.5' face='Times New Roman'>SUBMITTED BY - PRIYAM RANI PRADHAN</font>**"
   ]
  },
  {
   "cell_type": "markdown",
   "id": "0c7dd3b1",
   "metadata": {},
   "source": [
    "<hr style=\"border: 1px dotted black;\">\n"
   ]
  },
  {
   "cell_type": "markdown",
   "id": "32ca240f",
   "metadata": {},
   "source": [
    "<font color='green' size='6'><strong><font face='Times New Roman'>Task-1 : Calculator</font>\n"
   ]
  },
  {
   "cell_type": "markdown",
   "id": "6564d522",
   "metadata": {},
   "source": [
    "<font color='blue' size='4'>\n",
    "Create a basic calculator that can performbasic arithmetic operations such as addition, subtraction, multiplication, and division using functions\n",
    "    </font>"
   ]
  },
  {
   "cell_type": "code",
   "execution_count": 2,
   "id": "bf23e974",
   "metadata": {},
   "outputs": [],
   "source": [
    "import tkinter as tk\n",
    "import tkinter.messagebox\n",
    "\n",
    "def create_button(master, text, command, row, column, padx=10, pady=10, width=3):\n",
    "    return tk.Button(master=master, text=text, padx=padx, pady=pady, width=width, command=command).grid(row=row, column=column)\n",
    "\n",
    "def myclick(char):\n",
    "    if char == 'DEL':\n",
    "        current_text = entry.get()\n",
    "        entry.delete(len(current_text) - 1, tk.END)\n",
    "    else:\n",
    "        entry.insert(tk.END, char)\n",
    "\n",
    "def equal():\n",
    "    try:\n",
    "        expression = entry.get()\n",
    "        result = eval(expression)\n",
    "        entry.delete(0, tk.END)\n",
    "        entry.insert(0, round(result, 12))\n",
    "    except Exception as e:\n",
    "        tkinter.messagebox.showinfo(\"Error\", f\"Error: {e}\")\n",
    "\n",
    "def clear():\n",
    "    entry.delete(0, tk.END)\n",
    "\n",
    "def add_bracket():\n",
    "    myclick('(')\n",
    "\n",
    "def add_decimal():\n",
    "    myclick('.')\n",
    "\n",
    "window = tk.Tk()\n",
    "window.title('MY CALCULATOR')\n",
    "\n",
    "frame = tk.Frame(master=window, bg=\"pink\", padx=10, pady=10)\n",
    "frame.pack()\n",
    "\n",
    "entry = tk.Entry(master=frame, relief=tk.SUNKEN, borderwidth=3, width=30)\n",
    "entry.grid(row=0, column=0, columnspan=5, ipady=10, pady=10)\n",
    "\n",
    "buttons = [\n",
    "    ('9', lambda: myclick(9)), ('8', lambda: myclick(8)), ('7', lambda: myclick(7)), ('+', lambda: myclick('+')), ('-', lambda: myclick('-')),\n",
    "    ('6', lambda: myclick(6)), ('5', lambda: myclick(5)), ('4', lambda: myclick(4)), ('*', lambda: myclick('*')), ('/', lambda: myclick('/')),\n",
    "    ('3', lambda: myclick(3)), ('2', lambda: myclick(2)), ('1', lambda: myclick(1)), ('(', add_bracket), (')', lambda: myclick(')')),\n",
    "    ('C', clear), ('DEL', lambda: myclick('DEL')), ('0', lambda: myclick(0)), ('.', add_decimal), ('=', equal)\n",
    "]\n",
    "\n",
    "grid_order = [\n",
    "    (1, 0), (1, 1), (1, 2), (1, 3), (1, 4),\n",
    "    (2, 0), (2, 1), (2, 2), (2, 3), (2, 4),\n",
    "    (3, 0), (3, 1), (3, 2), (3, 3), (3, 4),\n",
    "    (4, 0), (4, 1), (4, 2), (4, 3), (4, 4),\n",
    "    (5, 0), (5, 1), (5, 2), (5, 3), (5, 4)\n",
    "]\n",
    "\n",
    "for (row, col), (label, cmd) in zip(grid_order, buttons):\n",
    "    create_button(frame, label, cmd, row, col)\n",
    "\n",
    "window.mainloop()"
   ]
  },
  {
   "cell_type": "markdown",
   "id": "e38a25a3",
   "metadata": {},
   "source": [
    "<hr style=\"border: 1px dotted black;\">\n"
   ]
  },
  {
   "cell_type": "markdown",
   "id": "a4c8b0f7",
   "metadata": {},
   "source": [
    "<font color='green' size='6'><strong><font face='Times New Roman'>Task-3 : Rock, paper, scissors game</font>\n"
   ]
  },
  {
   "cell_type": "markdown",
   "id": "394d8720",
   "metadata": {},
   "source": [
    "<font color='blue' size='4'>\n",
    "Create a program that allows the user to play the classic game of rock, paper, scissors against the computer.\n",
    "</font>"
   ]
  },
  {
   "cell_type": "code",
   "execution_count": 3,
   "id": "1ce79b9d",
   "metadata": {},
   "outputs": [
    {
     "name": "stdout",
     "output_type": "stream",
     "text": [
      "Let's play Rock, Paper, Scissors!\n",
      "Enter your choice (rock, paper, scissors): rock\n",
      "Computer chooses Scissors.\n",
      "You win!\n",
      "Do you want to play again? (yes/no): yes\n",
      "Let's play Rock, Paper, Scissors!\n",
      "Enter your choice (rock, paper, scissors): scissors\n",
      "Computer chooses Scissors.\n",
      "It's a tie!\n",
      "Do you want to play again? (yes/no): yes\n",
      "Let's play Rock, Paper, Scissors!\n",
      "Enter your choice (rock, paper, scissors): rock\n",
      "Computer chooses Paper.\n",
      "Computer wins!\n",
      "Do you want to play again? (yes/no): yes\n",
      "Let's play Rock, Paper, Scissors!\n",
      "Enter your choice (rock, paper, scissors): rock\n",
      "Computer chooses Scissors.\n",
      "You win!\n",
      "Do you want to play again? (yes/no): yes\n",
      "Let's play Rock, Paper, Scissors!\n",
      "Enter your choice (rock, paper, scissors): paper\n",
      "Computer chooses Scissors.\n",
      "Computer wins!\n",
      "Do you want to play again? (yes/no): what\n",
      "Invalid input. Please enter 'yes' to continue or 'no' to stop.\n",
      "Let's play Rock, Paper, Scissors!\n",
      "Enter your choice (rock, paper, scissors): paper\n",
      "Computer chooses Scissors.\n",
      "Computer wins!\n",
      "Do you want to play again? (yes/no): no\n",
      "Thanks for playing!\n"
     ]
    }
   ],
   "source": [
    "import random\n",
    "\n",
    "def get_computer_choice():\n",
    "    choices = ['rock', 'paper', 'scissors']\n",
    "    return random.choice(choices)\n",
    "\n",
    "def determine_winner(user_choice, computer_choice):\n",
    "    if user_choice == computer_choice:\n",
    "        return \"It's a tie!\"\n",
    "    elif user_choice == 'rock':\n",
    "        return \"You win!\" if computer_choice == 'scissors' else \"Computer wins!\"\n",
    "    elif user_choice == 'paper':\n",
    "        return \"You win!\" if computer_choice == 'rock' else \"Computer wins!\"\n",
    "    elif user_choice == 'scissors':\n",
    "        return \"You win!\" if computer_choice == 'paper' else \"Computer wins!\"\n",
    "\n",
    "while True:\n",
    "    print(\"Let's play Rock, Paper, Scissors!\")\n",
    "    user_choice = input(\"Enter your choice (rock, paper, scissors): \").lower()\n",
    "\n",
    "    if user_choice not in ['rock', 'paper', 'scissors']:\n",
    "        print(\"Invalid choice. Please enter 'rock', 'paper', or 'scissors'.\")\n",
    "        continue\n",
    "\n",
    "    computer_choice = get_computer_choice()\n",
    "    print(f\"Computer chooses {computer_choice.capitalize()}.\")\n",
    "\n",
    "    result = determine_winner(user_choice, computer_choice)\n",
    "    print(result)\n",
    "\n",
    "    play_again = input(\"Do you want to play again? (yes/no): \").lower()\n",
    "    if play_again == 'yes':\n",
    "        continue\n",
    "    elif play_again == 'no':\n",
    "        print(\"Thanks for playing!\")\n",
    "        break\n",
    "    else:\n",
    "        print(\"Invalid input. Please enter 'yes' to continue or 'no' to stop.\")\n"
   ]
  },
  {
   "cell_type": "markdown",
   "id": "4817ef23",
   "metadata": {},
   "source": [
    "<hr style=\"border: 1px dotted black;\">\n"
   ]
  },
  {
   "cell_type": "markdown",
   "id": "4e899998",
   "metadata": {},
   "source": [
    "<font color='green' size='6'><strong><font face='Times New Roman'>Task-5 : Temperature converter</font>\n"
   ]
  },
  {
   "cell_type": "markdown",
   "id": "35bcaf40",
   "metadata": {},
   "source": [
    "<font color='blue' size='4'>\n",
    "Create a program that allows the user to convert temperatures between Fahrenheit and Celsius.\n",
    "    </font>"
   ]
  },
  {
   "cell_type": "code",
   "execution_count": 4,
   "id": "4bcdb29e",
   "metadata": {},
   "outputs": [
    {
     "name": "stdout",
     "output_type": "stream",
     "text": [
      "Choose an option:\n",
      "1. Convert Fahrenheit to Celsius\n",
      "2. Convert Celsius to Fahrenheit\n",
      "3. Quit\n",
      "Enter your choice (1/2/3): 1\n",
      "Enter temperature in Fahrenheit: -40\n",
      "-40.0°F is -40.0°C\n",
      "\n",
      "Choose an option:\n",
      "1. Convert Fahrenheit to Celsius\n",
      "2. Convert Celsius to Fahrenheit\n",
      "3. Quit\n",
      "Enter your choice (1/2/3): 2\n",
      "Enter temperature in Celsius: 100\n",
      "100.0°C is 212.0°F\n",
      "\n",
      "Choose an option:\n",
      "1. Convert Fahrenheit to Celsius\n",
      "2. Convert Celsius to Fahrenheit\n",
      "3. Quit\n",
      "Enter your choice (1/2/3): 3\n",
      "Thank You!\n"
     ]
    }
   ],
   "source": [
    "def f_to_c(f):\n",
    "    c = (f - 32) * 5/9\n",
    "    return c\n",
    "\n",
    "def c_to_f(c):\n",
    "    f = (c * 9/5) + 32\n",
    "    return f\n",
    "\n",
    "while True:\n",
    "    print(\"Choose an option:\")\n",
    "    print(\"1. Convert Fahrenheit to Celsius\")\n",
    "    print(\"2. Convert Celsius to Fahrenheit\")\n",
    "    print(\"3. Quit\")\n",
    "\n",
    "    choice = input(\"Enter your choice (1/2/3): \")\n",
    "\n",
    "    if choice == '1':\n",
    "        f = float(input(\"Enter temperature in Fahrenheit: \"))\n",
    "        c = f_to_c(f)\n",
    "        print(f\"{f}°F is {c}°C\\n\")\n",
    "        \n",
    "    elif choice == '2':\n",
    "        c = float(input(\"Enter temperature in Celsius: \"))\n",
    "        f = c_to_f(c)\n",
    "        print(f\"{c}°C is {f}°F\\n\")\n",
    "        \n",
    "    elif choice == '3':\n",
    "        print(\"Thank You!\")\n",
    "        break\n",
    "        \n",
    "    else:\n",
    "        print(\"Invalid choice. Please choose 1, 2, or 3.\\n\")\n"
   ]
  },
  {
   "cell_type": "markdown",
   "id": "29b1d41f",
   "metadata": {},
   "source": [
    "<hr style=\"border: 1px dotted black;\">\n"
   ]
  },
  {
   "cell_type": "markdown",
   "id": "4b708b80",
   "metadata": {},
   "source": [
    "<font color='green' size='6'><strong><font face='Times New Roman'>Task-9 : Random Password Generator</font>\n"
   ]
  },
  {
   "cell_type": "markdown",
   "id": "982bc0fa",
   "metadata": {},
   "source": [
    "<font color='blue' size='4'>\n",
    "Create a program that generates a random password of a user-defined length.\n",
    "</font>"
   ]
  },
  {
   "cell_type": "code",
   "execution_count": 5,
   "id": "908dd0bc",
   "metadata": {},
   "outputs": [
    {
     "name": "stdout",
     "output_type": "stream",
     "text": [
      "Enter the desired password length (type 'S' to stop): 6\n",
      "Generated Password: 9?)rar\n",
      "Enter the desired password length (type 'S' to stop): 8\n",
      "Generated Password: PrTsZL=l\n",
      "Enter the desired password length (type 'S' to stop): 10\n",
      "Generated Password: Dt~BGr\\<sM\n",
      "Enter the desired password length (type 'S' to stop): S\n",
      "Thank you.\n"
     ]
    }
   ],
   "source": [
    "import random\n",
    "import string\n",
    "\n",
    "def generate_password(length):\n",
    "    characters = string.ascii_letters + string.digits + string.punctuation\n",
    "    password = ''.join(random.choice(characters) for _ in range(length))\n",
    "    return password\n",
    "\n",
    "while True:\n",
    "    password_length_str = input(\"Enter the desired password length (type 'S' to stop): \").strip().upper()\n",
    "    \n",
    "    if password_length_str == 'S':\n",
    "        print(\"Thank you.\")\n",
    "        break\n",
    "\n",
    "    try:\n",
    "        password_length = int(password_length_str)\n",
    "        \n",
    "        if password_length <= 0:\n",
    "            raise ValueError\n",
    "\n",
    "        password = generate_password(password_length)\n",
    "        print(\"Generated Password:\", password)\n",
    "    except ValueError:\n",
    "        print(\"Error: Please enter a valid positive integer for password length or type 'S' to stop.\")\n"
   ]
  },
  {
   "cell_type": "markdown",
   "id": "df76ecb1",
   "metadata": {},
   "source": [
    "<hr style=\"border: 1px dotted black;\">\n"
   ]
  },
  {
   "cell_type": "markdown",
   "id": "85c5b078",
   "metadata": {},
   "source": [
    "<font color='purple' size='4' face='Times New Roman'>\n",
    "I would like to extend my gratitude to Sandip Gavit sir and the incredible Technohacks Edutech team for giving me the opportunity to join as a Python Developer Intern.\n",
    "</font>\n"
   ]
  }
 ],
 "metadata": {
  "kernelspec": {
   "display_name": "Python 3 (ipykernel)",
   "language": "python",
   "name": "python3"
  },
  "language_info": {
   "codemirror_mode": {
    "name": "ipython",
    "version": 3
   },
   "file_extension": ".py",
   "mimetype": "text/x-python",
   "name": "python",
   "nbconvert_exporter": "python",
   "pygments_lexer": "ipython3",
   "version": "3.9.13"
  }
 },
 "nbformat": 4,
 "nbformat_minor": 5
}
